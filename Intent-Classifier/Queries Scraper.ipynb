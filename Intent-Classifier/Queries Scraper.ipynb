{
 "cells": [
  {
   "cell_type": "markdown",
   "metadata": {
    "id": "_DGaZuK_Z88U"
   },
   "source": [
    "# Reddit Scrapper"
   ]
  },
  {
   "cell_type": "code",
   "execution_count": 1,
   "metadata": {
    "colab": {
     "base_uri": "https://localhost:8080/"
    },
    "executionInfo": {
     "elapsed": 9203,
     "status": "ok",
     "timestamp": 1747655986655,
     "user": {
      "displayName": "ARMUGHAN ASLAM",
      "userId": "03979024718729969105"
     },
     "user_tz": -300
    },
    "id": "x7iWaQ73Z0ej",
    "outputId": "634366c2-3912-4c44-9223-c726dd9b30e5"
   },
   "outputs": [
    {
     "name": "stdout",
     "output_type": "stream",
     "text": [
      "Collecting praw\n",
      "  Downloading praw-7.8.1-py3-none-any.whl.metadata (9.4 kB)\n",
      "Collecting prawcore<3,>=2.4 (from praw)\n",
      "  Downloading prawcore-2.4.0-py3-none-any.whl.metadata (5.0 kB)\n",
      "Collecting update_checker>=0.18 (from praw)\n",
      "  Downloading update_checker-0.18.0-py3-none-any.whl.metadata (2.3 kB)\n",
      "Requirement already satisfied: websocket-client>=0.54.0 in /usr/local/lib/python3.11/dist-packages (from praw) (1.8.0)\n",
      "Requirement already satisfied: requests<3.0,>=2.6.0 in /usr/local/lib/python3.11/dist-packages (from prawcore<3,>=2.4->praw) (2.32.3)\n",
      "Requirement already satisfied: charset-normalizer<4,>=2 in /usr/local/lib/python3.11/dist-packages (from requests<3.0,>=2.6.0->prawcore<3,>=2.4->praw) (3.4.2)\n",
      "Requirement already satisfied: idna<4,>=2.5 in /usr/local/lib/python3.11/dist-packages (from requests<3.0,>=2.6.0->prawcore<3,>=2.4->praw) (3.10)\n",
      "Requirement already satisfied: urllib3<3,>=1.21.1 in /usr/local/lib/python3.11/dist-packages (from requests<3.0,>=2.6.0->prawcore<3,>=2.4->praw) (2.4.0)\n",
      "Requirement already satisfied: certifi>=2017.4.17 in /usr/local/lib/python3.11/dist-packages (from requests<3.0,>=2.6.0->prawcore<3,>=2.4->praw) (2025.4.26)\n",
      "Downloading praw-7.8.1-py3-none-any.whl (189 kB)\n",
      "\u001b[2K   \u001b[90m━━━━━━━━━━━━━━━━━━━━━━━━━━━━━━━━━━━━━━━━\u001b[0m \u001b[32m189.3/189.3 kB\u001b[0m \u001b[31m3.6 MB/s\u001b[0m eta \u001b[36m0:00:00\u001b[0m\n",
      "\u001b[?25hDownloading prawcore-2.4.0-py3-none-any.whl (17 kB)\n",
      "Downloading update_checker-0.18.0-py3-none-any.whl (7.0 kB)\n",
      "Installing collected packages: update_checker, prawcore, praw\n",
      "Successfully installed praw-7.8.1 prawcore-2.4.0 update_checker-0.18.0\n"
     ]
    }
   ],
   "source": [
    "!pip install praw"
   ]
  },
  {
   "cell_type": "code",
   "execution_count": 7,
   "metadata": {
    "executionInfo": {
     "elapsed": 7,
     "status": "ok",
     "timestamp": 1747658439868,
     "user": {
      "displayName": "ARMUGHAN ASLAM",
      "userId": "03979024718729969105"
     },
     "user_tz": -300
    },
    "id": "BHH9GF7madvn"
   },
   "outputs": [],
   "source": [
    "import praw\n",
    "import csv"
   ]
  },
  {
   "cell_type": "code",
   "execution_count": 3,
   "metadata": {
    "executionInfo": {
     "elapsed": 10,
     "status": "ok",
     "timestamp": 1747656395547,
     "user": {
      "displayName": "ARMUGHAN ASLAM",
      "userId": "03979024718729969105"
     },
     "user_tz": -300
    },
    "id": "gn7eMDGNa_ky"
   },
   "outputs": [],
   "source": [
    "id = '5fCu8LZ6fD0LjBsBba7gqg'\n",
    "secret = '9QMuiqG4v013fMoDr7hYgOSd7zwLDA'\n",
    "app_name = 'Student_Queries'"
   ]
  },
  {
   "cell_type": "code",
   "execution_count": 4,
   "metadata": {
    "executionInfo": {
     "elapsed": 87,
     "status": "ok",
     "timestamp": 1747656396889,
     "user": {
      "displayName": "ARMUGHAN ASLAM",
      "userId": "03979024718729969105"
     },
     "user_tz": -300
    },
    "id": "xs9cBOg4apCJ"
   },
   "outputs": [],
   "source": [
    "reddit = praw.Reddit(client_id=id, client_secret=secret, user_agent=app_name)\n",
    "# submissions = reddit.subreddit('learnpython').search('query', limit=100)  # Example search"
   ]
  },
  {
   "cell_type": "code",
   "execution_count": 5,
   "metadata": {
    "executionInfo": {
     "elapsed": 6,
     "status": "ok",
     "timestamp": 1747656398473,
     "user": {
      "displayName": "ARMUGHAN ASLAM",
      "userId": "03979024718729969105"
     },
     "user_tz": -300
    },
    "id": "P8qNeAA-b57Q"
   },
   "outputs": [],
   "source": [
    "subreddit = reddit.subreddit('learnprogramming+ProgrammingBuddies')"
   ]
  },
  {
   "cell_type": "code",
   "execution_count": 9,
   "metadata": {
    "colab": {
     "base_uri": "https://localhost:8080/"
    },
    "executionInfo": {
     "elapsed": 2173,
     "status": "ok",
     "timestamp": 1747658530767,
     "user": {
      "displayName": "ARMUGHAN ASLAM",
      "userId": "03979024718729969105"
     },
     "user_tz": -300
    },
    "id": "W_tw27a6b8Fn",
    "outputId": "0a4ea7ce-52a3-4f4e-bef3-4bef4ba69bdd"
   },
   "outputs": [
    {
     "name": "stderr",
     "output_type": "stream",
     "text": [
      "WARNING:praw:It appears that you are using PRAW in an asynchronous environment.\n",
      "It is strongly recommended to use Async PRAW: https://asyncpraw.readthedocs.io.\n",
      "See https://praw.readthedocs.io/en/latest/getting_started/multiple_instances.html#discord-bots-and-asynchronous-environments for more info.\n",
      "\n",
      "WARNING:praw:It appears that you are using PRAW in an asynchronous environment.\n",
      "It is strongly recommended to use Async PRAW: https://asyncpraw.readthedocs.io.\n",
      "See https://praw.readthedocs.io/en/latest/getting_started/multiple_instances.html#discord-bots-and-asynchronous-environments for more info.\n",
      "\n",
      "WARNING:praw:It appears that you are using PRAW in an asynchronous environment.\n",
      "It is strongly recommended to use Async PRAW: https://asyncpraw.readthedocs.io.\n",
      "See https://praw.readthedocs.io/en/latest/getting_started/multiple_instances.html#discord-bots-and-asynchronous-environments for more info.\n",
      "\n"
     ]
    }
   ],
   "source": [
    "with open('student_queries_detailed.csv', 'w', newline='', encoding='utf-8') as csvfile:\n",
    "    writer = csv.writer(csvfile)\n",
    "    writer.writerow(['Title', 'URL', 'Upvotes', 'Created_UTC'])\n",
    "\n",
    "    for submission in subreddit.search('flair:Question', limit=1000):\n",
    "        writer.writerow([\n",
    "            submission.title,\n",
    "            submission.url,\n",
    "            submission.score,\n",
    "            submission.created_utc\n",
    "        ])"
   ]
  },
  {
   "cell_type": "markdown",
   "metadata": {
    "id": "M9kNuShvo8FZ"
   },
   "source": [
    "# Stack Overflow Scrapper"
   ]
  },
  {
   "cell_type": "code",
   "execution_count": 2,
   "metadata": {
    "colab": {
     "base_uri": "https://localhost:8080/"
    },
    "executionInfo": {
     "elapsed": 3333,
     "status": "ok",
     "timestamp": 1747710175108,
     "user": {
      "displayName": "ARMUGHAN ASLAM",
      "userId": "03979024718729969105"
     },
     "user_tz": -300
    },
    "id": "FlYYnj_OpLwo",
    "outputId": "7adbaaee-4598-4a3e-b88a-93ba38d7ae67"
   },
   "outputs": [
    {
     "name": "stdout",
     "output_type": "stream",
     "text": [
      "Collecting stackapi\n",
      "  Downloading StackAPI-0.3.1-py3-none-any.whl.metadata (2.3 kB)\n",
      "Requirement already satisfied: requests in /usr/local/lib/python3.11/dist-packages (from stackapi) (2.32.3)\n",
      "Requirement already satisfied: six in /usr/local/lib/python3.11/dist-packages (from stackapi) (1.17.0)\n",
      "Requirement already satisfied: charset-normalizer<4,>=2 in /usr/local/lib/python3.11/dist-packages (from requests->stackapi) (3.4.2)\n",
      "Requirement already satisfied: idna<4,>=2.5 in /usr/local/lib/python3.11/dist-packages (from requests->stackapi) (3.10)\n",
      "Requirement already satisfied: urllib3<3,>=1.21.1 in /usr/local/lib/python3.11/dist-packages (from requests->stackapi) (2.4.0)\n",
      "Requirement already satisfied: certifi>=2017.4.17 in /usr/local/lib/python3.11/dist-packages (from requests->stackapi) (2025.4.26)\n",
      "Downloading StackAPI-0.3.1-py3-none-any.whl (7.2 kB)\n",
      "Installing collected packages: stackapi\n",
      "Successfully installed stackapi-0.3.1\n"
     ]
    }
   ],
   "source": [
    "!pip install stackapi"
   ]
  },
  {
   "cell_type": "code",
   "execution_count": 3,
   "metadata": {
    "executionInfo": {
     "elapsed": 959,
     "status": "ok",
     "timestamp": 1747710177833,
     "user": {
      "displayName": "ARMUGHAN ASLAM",
      "userId": "03979024718729969105"
     },
     "user_tz": -300
    },
    "id": "oH2sqSlypB_O"
   },
   "outputs": [],
   "source": [
    "from stackapi import StackAPI\n",
    "import pandas as pd"
   ]
  },
  {
   "cell_type": "code",
   "execution_count": 10,
   "metadata": {
    "executionInfo": {
     "elapsed": 143,
     "status": "ok",
     "timestamp": 1747712933583,
     "user": {
      "displayName": "ARMUGHAN ASLAM",
      "userId": "03979024718729969105"
     },
     "user_tz": -300
    },
    "id": "9fh60NEtpGxp"
   },
   "outputs": [],
   "source": [
    "SITE = StackAPI('stackoverflow', key='rl_ShhGpETAfxz1TMVR6VxAWfqsH')\n",
    "SITE.page_size = 100  # Max items per page\n",
    "SITE.max_pages = 50   # Max pages to retrieve (5000 items total)"
   ]
  },
  {
   "cell_type": "code",
   "execution_count": 29,
   "metadata": {
    "executionInfo": {
     "elapsed": 11256,
     "status": "ok",
     "timestamp": 1747720022984,
     "user": {
      "displayName": "ARMUGHAN ASLAM",
      "userId": "03979024718729969105"
     },
     "user_tz": -300
    },
    "id": "9NWEvV_SpwH0"
   },
   "outputs": [],
   "source": [
    "# Get questions tagged with 'python' and 'beginner'\n",
    "questions = SITE.fetch('questions',\n",
    "                      tagged='oop',\n",
    "                      sort='creation',\n",
    "                      order='desc')"
   ]
  },
  {
   "cell_type": "code",
   "execution_count": 30,
   "metadata": {
    "executionInfo": {
     "elapsed": 159,
     "status": "ok",
     "timestamp": 1747720023147,
     "user": {
      "displayName": "ARMUGHAN ASLAM",
      "userId": "03979024718729969105"
     },
     "user_tz": -300
    },
    "id": "y_q6HCC8p2nW"
   },
   "outputs": [],
   "source": [
    "# Convert to DataFrame and save\n",
    "df = pd.DataFrame(questions['items'])\n",
    "df.to_csv('stack_overflow_queries_oop.csv', index=False)"
   ]
  },
  {
   "cell_type": "markdown",
   "metadata": {
    "id": "CJNlJ6mBmBLN"
   },
   "source": [
    "# CSV Aggregator"
   ]
  },
  {
   "cell_type": "code",
   "execution_count": 2,
   "metadata": {
    "colab": {
     "base_uri": "https://localhost:8080/"
    },
    "executionInfo": {
     "elapsed": 104,
     "status": "ok",
     "timestamp": 1747746544872,
     "user": {
      "displayName": "ARMUGHAN ASLAM",
      "userId": "03979024718729969105"
     },
     "user_tz": -300
    },
    "id": "a5XnyQ2_mF-N",
    "outputId": "1eef8985-3fc9-4daa-a49e-328783616ba1"
   },
   "outputs": [
    {
     "name": "stdout",
     "output_type": "stream",
     "text": [
      "Combined CSV created successfully!\n"
     ]
    }
   ],
   "source": [
    "import pandas as pd\n",
    "\n",
    "# List of CSV files to process (update these with your actual filenames)\n",
    "file_names = [\n",
    "    '/content/stack_overflow_queries_algorithm.csv',\n",
    "    '/content/stack_overflow_queries_data_structures.csv',\n",
    "    '/content/stack_overflow_queries_debugging.csv',\n",
    "    '/content/stack_overflow_queries_oop.csv',\n",
    "    '/content/stack_overflow_queries_python.csv'\n",
    "]\n",
    "\n",
    "# Initialize an empty list to store DataFrames\n",
    "dfs = []\n",
    "\n",
    "# Read and process each CSV file\n",
    "for file in file_names:\n",
    "    try:\n",
    "        # Read CSV file\n",
    "        df = pd.read_csv(file)\n",
    "\n",
    "        # Check if required columns exist\n",
    "        if all(col in df.columns for col in ['Query', 'Intent']):\n",
    "            # Extract required columns and add to list\n",
    "            dfs.append(df[['Query', 'Intent']].head(200))\n",
    "        else:\n",
    "            print(f\"Warning: {file} is missing required columns. Skipping.\")\n",
    "\n",
    "    except FileNotFoundError:\n",
    "        print(f\"Error: {file} not found. Skipping.\")\n",
    "        continue\n",
    "\n",
    "# Combine all DataFrames\n",
    "combined_df = pd.concat(dfs, ignore_index=True)\n",
    "\n",
    "# Save combined data to new CSV\n",
    "combined_df.to_csv('combined_student_queries_scraped.csv', index=False)\n",
    "\n",
    "print(\"Combined CSV created successfully!\")"
   ]
  },
  {
   "cell_type": "markdown",
   "metadata": {
    "id": "FI-hF1AP4aLc"
   },
   "source": [
    "**Now Combine With Synthetic Dataset**"
   ]
  },
  {
   "cell_type": "code",
   "execution_count": 6,
   "metadata": {
    "colab": {
     "base_uri": "https://localhost:8080/"
    },
    "executionInfo": {
     "elapsed": 31,
     "status": "ok",
     "timestamp": 1747748210236,
     "user": {
      "displayName": "ARMUGHAN ASLAM",
      "userId": "03979024718729969105"
     },
     "user_tz": -300
    },
    "id": "8DfVfqAZ4ZEX",
    "outputId": "f0f72960-1406-4148-ddd9-700251d9dc74"
   },
   "outputs": [
    {
     "name": "stdout",
     "output_type": "stream",
     "text": [
      "Combined CSV created successfully!\n"
     ]
    }
   ],
   "source": [
    "import pandas as pd\n",
    "# Initialize an empty list to store DataFrames\n",
    "dfs = []\n",
    "\n",
    "# Read and process each CSV file\n",
    "# Read CSV file\n",
    "df = pd.read_csv(\"combined_shuffled_queries.csv\")\n",
    "df2 = pd.read_csv(\"combined_student_queries_scraped.csv\")\n",
    "\n",
    "# Check if required columns exist\n",
    "if all(col in df.columns for col in ['Query', 'Intent']):\n",
    "    # Extract required columns and add to list\n",
    "    dfs.append(df[['Query', 'Intent']])\n",
    "    dfs.append(df2[['Query', 'Intent']])\n",
    "\n",
    "# Combine all DataFrames\n",
    "combined_df = pd.concat(dfs, ignore_index=True)\n",
    "\n",
    "# Save combined data to new CSV\n",
    "combined_df.to_csv('combined_student_queries_all.csv', index=False)\n",
    "\n",
    "print(\"Combined CSV created successfully!\")"
   ]
  },
  {
   "cell_type": "code",
   "execution_count": null,
   "metadata": {},
   "outputs": [],
   "source": []
  }
 ],
 "metadata": {
  "colab": {
   "authorship_tag": "ABX9TyMIzTBrdwpoeIasYLsTmE2x",
   "provenance": []
  },
  "kernelspec": {
   "display_name": "Python 3 (ipykernel)",
   "language": "python",
   "name": "python3"
  },
  "language_info": {
   "codemirror_mode": {
    "name": "ipython",
    "version": 3
   },
   "file_extension": ".py",
   "mimetype": "text/x-python",
   "name": "python",
   "nbconvert_exporter": "python",
   "pygments_lexer": "ipython3",
   "version": "3.12.0"
  }
 },
 "nbformat": 4,
 "nbformat_minor": 4
}
